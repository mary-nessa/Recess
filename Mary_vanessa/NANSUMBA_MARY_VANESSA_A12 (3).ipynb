{
 "cells": [
  {
   "cell_type": "code",
   "execution_count": 3,
   "id": "7491f76f",
   "metadata": {},
   "outputs": [
    {
     "name": "stdout",
     "output_type": "stream",
     "text": [
      "Data saved to scraped_data.csv\n"
     ]
    }
   ],
   "source": [
    "# Assignment 12\n",
    "# Use the API to get data. The endpoint for the webservice is at https://xeno-canto.org/api/2/recordings.\n",
    "# 1. Extract all the bird species from the website. Generate the csv/json file for the bird species, family and more.\n",
    "\n",
    "import csv\n",
    "import requests\n",
    "from bs4 import BeautifulSoup\n",
    "\n",
    "def scrape_data(url):\n",
    "    response = requests.get(url)\n",
    "    if response.status_code == 200:\n",
    "        soup = BeautifulSoup(response.content, 'html.parser')\n",
    "        column_names = []\n",
    "\n",
    "        # Find the table headers to get column names\n",
    "        table = soup.find('table', {'class': 'results'})\n",
    "        headers = table.find_all('th')\n",
    "        column_names = [header.get_text(strip=True) for header in headers]\n",
    "\n",
    "        # Find the table data and iterate through rows\n",
    "        data = []\n",
    "        for row in table.find_all('tr'):\n",
    "            # Find table data cells\n",
    "            cols = row.find_all('td')\n",
    "            cols = [col.get_text(strip=True) for col in cols]\n",
    "            data.append(cols)\n",
    "\n",
    "        return column_names, data\n",
    "    else:\n",
    "        print(f\"Error accessing the website. Status Code: {response.status_code}\")\n",
    "        return None, None\n",
    "\n",
    "def save_to_csv(column_names, data, filename):\n",
    "    with open(filename, mode='w', newline='') as file:\n",
    "        writer = csv.writer(file)\n",
    "        writer.writerow(column_names)  # Write column names to CSV file\n",
    "        writer.writerows(data)  # Write data to CSV file\n",
    "    print(f\"Data saved to {filename}\")\n",
    "\n",
    "if __name__ == \"__main__\":\n",
    "    url = \"https://xeno-canto.org/collection/species/all\"  \n",
    "\n",
    "    column_names, scraped_data = scrape_data(url)\n",
    "    if column_names and scraped_data:\n",
    "        save_to_csv(column_names, scraped_data, \"scraped_data.csv\")\n"
   ]
  },
  {
   "cell_type": "code",
   "execution_count": 4,
   "id": "707aa621",
   "metadata": {},
   "outputs": [],
   "source": [
    "import csv\n",
    "import requests\n",
    "from bs4 import BeautifulSoup"
   ]
  },
  {
   "cell_type": "code",
   "execution_count": 6,
   "id": "4e822a6c",
   "metadata": {},
   "outputs": [
    {
     "name": "stdout",
     "output_type": "stream",
     "text": [
      "Data saved to songs_of_bird.csv\n"
     ]
    }
   ],
   "source": [
    "import csv\n",
    "import requests\n",
    "\n",
    "def extract_bird_songs(api_url):\n",
    "    response = requests.get(api_url)\n",
    "    if response.status_code == 200:\n",
    "        data = response.json()\n",
    "        song_list = []\n",
    "        \n",
    "        if 'recordings' in data:\n",
    "            for recording in data['recordings']:\n",
    "                song_list.append(recording['en'])\n",
    "        return song_list\n",
    "    else:\n",
    "        print(f\"Failed to fetch data from {api_url}. Error code: {response.status_code}\")\n",
    "        return []\n",
    "\n",
    "if __name__ == \"__main__\":\n",
    "    api_url = \"https://xeno-canto.org/api/2/recordings?query=type:song\"\n",
    "    bird_songs_list = extract_bird_songs(api_url)\n",
    "\n",
    "    def save_bird_songs_to_csv(data_list, filename):\n",
    "        with open(filename, mode='w', newline='', encoding='utf-8') as file:\n",
    "            writer = csv.writer(file)\n",
    "            writer.writerow(['Bird Song Name'])\n",
    "            for song_name in data_list:\n",
    "                writer.writerow([song_name])\n",
    "\n",
    "    if bird_songs_list:\n",
    "        csv_filename = \"songs_of_bird.csv\"\n",
    "        save_bird_songs_to_csv(bird_songs_list, csv_filename)\n",
    "        print(f\"Data saved to {csv_filename}\")\n",
    "    else:\n",
    "        print(\"No bird songs data available.\")\n"
   ]
  },
  {
   "cell_type": "code",
   "execution_count": 7,
   "id": "a24822fc",
   "metadata": {},
   "outputs": [
    {
     "name": "stdout",
     "output_type": "stream",
     "text": [
      "Data saved to songs_of_bird_new.csv\n"
     ]
    }
   ],
   "source": [
    "# the songs are duplicated so code to remove the duplicates\n",
    "# Remove duplicates from the bird_songs_list\n",
    "import csv\n",
    "import requests\n",
    "\n",
    "def extract_bird_songs(api_url):\n",
    "    response = requests.get(api_url)\n",
    "    if response.status_code == 200:\n",
    "        data = response.json()\n",
    "        song_list = []\n",
    "        \n",
    "        if 'recordings' in data:\n",
    "            for recording in data['recordings']:\n",
    "                song_list.append(recording['en'])\n",
    "        return song_list\n",
    "    else:\n",
    "        print(f\"Failed to fetch data from {api_url}. Error code: {response.status_code}\")\n",
    "        return []\n",
    "\n",
    "if __name__ == \"__main__\":\n",
    "    api_url = \"https://xeno-canto.org/api/2/recordings?query=type:song\"\n",
    "    bird_songs_list = extract_bird_songs(api_url)\n",
    "\n",
    "    \n",
    "    bird_songs_list = list(set(bird_songs_list))\n",
    "\n",
    "    def save_bird_songs_to_csv(data_list, filename):\n",
    "        with open(filename, mode='w', newline='', encoding='utf-8') as file:\n",
    "            writer = csv.writer(file)\n",
    "            writer.writerow(['Bird Song Name'])\n",
    "            for song_name in data_list:\n",
    "                writer.writerow([song_name])\n",
    "\n",
    "    if bird_songs_list:\n",
    "        csv_filename = \"songs_of_bird_new.csv\"\n",
    "        save_bird_songs_to_csv(bird_songs_list, csv_filename)\n",
    "        print(f\"Data saved to {csv_filename}\")\n",
    "    else:\n",
    "        print(\"No bird songs data available.\")\n"
   ]
  },
  {
   "cell_type": "code",
   "execution_count": null,
   "id": "ef79986a",
   "metadata": {},
   "outputs": [],
   "source": []
  }
 ],
 "metadata": {
  "kernelspec": {
   "display_name": "Python 3 (ipykernel)",
   "language": "python",
   "name": "python3"
  },
  "language_info": {
   "codemirror_mode": {
    "name": "ipython",
    "version": 3
   },
   "file_extension": ".py",
   "mimetype": "text/x-python",
   "name": "python",
   "nbconvert_exporter": "python",
   "pygments_lexer": "ipython3",
   "version": "3.9.13"
  }
 },
 "nbformat": 4,
 "nbformat_minor": 5
}
